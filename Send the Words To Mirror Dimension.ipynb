{
 "cells": [
  {
   "cell_type": "markdown",
   "id": "8962ed39",
   "metadata": {},
   "source": [
    "## Send the Words To Mirror Dimension"
   ]
  },
  {
   "cell_type": "markdown",
   "id": "04f25bb9",
   "metadata": {},
   "source": [
    "### Using slicing we are reversing any word\n"
   ]
  },
  {
   "cell_type": "code",
   "execution_count": 1,
   "id": "8b821ae4",
   "metadata": {},
   "outputs": [
    {
     "data": {
      "text/plain": [
       "'adoydE'"
      ]
     },
     "execution_count": 1,
     "metadata": {},
     "output_type": "execute_result"
    }
   ],
   "source": [
    "'Edyoda'[::-1]"
   ]
  },
  {
   "cell_type": "code",
   "execution_count": null,
   "id": "dd33b8c1",
   "metadata": {},
   "outputs": [],
   "source": [
    "word=input(\"Enter any word to mirror it:\")\n",
    "word [::-1]"
   ]
  }
 ],
 "metadata": {
  "kernelspec": {
   "display_name": "Python 3 (ipykernel)",
   "language": "python",
   "name": "python3"
  },
  "language_info": {
   "codemirror_mode": {
    "name": "ipython",
    "version": 3
   },
   "file_extension": ".py",
   "mimetype": "text/x-python",
   "name": "python",
   "nbconvert_exporter": "python",
   "pygments_lexer": "ipython3",
   "version": "3.9.6"
  }
 },
 "nbformat": 4,
 "nbformat_minor": 5
}
